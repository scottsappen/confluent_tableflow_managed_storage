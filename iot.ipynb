{
   "cells": [
{
   "cell_type": "markdown",
   "id": "2b3b8256-432a-46a8-8542-837777aada52",
   "metadata": {},
   "source": [
   "## Register rest catalog as default catalog for Spark"
   ]
},
{
   "cell_type": "code",
   "execution_count": 1,
   "id": "e4d27656-867c-464e-a8c0-4b590fd7aae2",
   "metadata": {},
   "outputs": [
   {
   "name": "stderr",
   "output_type": "stream",
   "text": [
      "24/05/18 07:27:44 WARN SparkSession: Using an existing Spark session; only runtime SQL configurations will take effect.\n"
   ]
   }
   ],
   "source": [
   "from pyspark.sql import SparkSession\n",
   "\n",
   "conf = (\n",
   "    pyspark.SparkConf()\n",
   "        .setAppName('Jupyter')\n",
   "        .set(\"spark.sql.extensions\", \"org.apache.iceberg.spark.extensions.IcebergSparkSessionExtensions\")\n",
   "        .set(\"spark.sql.catalog.tableflowdemo\", \"org.apache.iceberg.spark.SparkCatalog\")\n",
   "        .set(\"spark.sql.catalog.tableflowdemo.type\", \"rest\")\n",
   "        .set(\"spark.sql.catalog.tableflowdemo.uri\", \"<Tableflow REST Catalog URI>\")\n",
   "        .set(\"spark.sql.catalog.tableflowdemo.credential\", \"<api_key>:<secret>\")\n",
   "        .set(\"spark.sql.catalog.tableflowdemo.io-impl\", \"org.apache.iceberg.aws.s3.S3FileIO\")\n",
   "        .set(\"spark.sql.catalog.tableflowdemo.rest-metrics-reporting-enabled\", \"false\")\n",
   "        .set(\"spark.sql.defaultCatalog\", \"tableflowdemo\")\n",
   "        .set(\"spark.sql.catalog.tableflowdemo.s3.remote-signing-enabled\", \"true\")\n",
   ")\n",
   "spark = SparkSession.builder.config(conf=conf).getOrCreate()\n"
   ]
},
{
   "cell_type": "markdown",
   "id": "3f7f0ed8-39bf-4ad1-ad72-d2f6e010c4b5",
   "metadata": {},
   "source": [
   "## List all the tables in the db"
   ]
},
{
   "cell_type": "code",
   "execution_count": null,
   "id": "89fc7044-4f9e-47f7-8fca-05b15da88a9c",
   "metadata": {},
   "outputs": [],
   "source": [
   "%%sql \n",
   "SHOW TABLES in `<your-kafka-cluster-id>`"
   ]
},
{
   "cell_type": "markdown",
   "id": "9282572f-557d-4bb7-9f3e-511e86889304",
   "metadata": {},
   "source": [
   "## Query all records in the table"
   ]
},
{
   "cell_type": "code",
   "execution_count": null,
   "id": "345f8fef-9d1f-4cc5-8015-babdf4102988",
   "metadata": {},
   "outputs": [],
   "source": [
   "%%sql \n",
   "SELECT *\n",
   "FROM `<your-kafka-cluster-id>`.`stock-trades`;"
   ]
}
],
"metadata": {
"kernelspec": {
   "display_name": "Python 3 (ipykernel)",
   "language": "python",
   "name": "python3"
},
"language_info": {
   "codemirror_mode": {
   "name": "ipython",
   "version": 3
   },
   "file_extension": ".py",
   "mimetype": "text/x-python",
   "name": "python",
   "nbconvert_exporter": "python",
   "pygments_lexer": "ipython3",
   "version": "3.9.18"
}
},
"nbformat": 4,
"nbformat_minor": 5
}
